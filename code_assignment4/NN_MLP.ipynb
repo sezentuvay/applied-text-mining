{
 "cells": [
  {
   "cell_type": "code",
   "execution_count": 1,
   "metadata": {},
   "outputs": [],
   "source": [
    "import gensim\n",
    "import spacy\n",
    "import pandas as pd\n",
    "import numpy as np\n",
    "\n",
    "from sklearn.model_selection import train_test_split\n",
    "from sklearn.model_selection import GridSearchCV # For optimization\n",
    "from sklearn.neural_network import MLPClassifier\n",
    "from sklearn.metrics import classification_report\n",
    "\n",
    "# Change this to your own path of a word embedding model\n",
    "google_news_path = \"../embedding_models/GoogleNews-vectors-negative300.bin.gz\"\n",
    "\n",
    "# Load google news embeddings using gensim\n",
    "word_embedding_model = gensim.models.KeyedVectors.load_word2vec_format(google_news_path, binary=True)"
   ]
  },
  {
   "cell_type": "code",
   "execution_count": 2,
   "metadata": {},
   "outputs": [],
   "source": [
    "# Set this to the amount of dimensions in the used word embedding model\n",
    "num_features = 300\n",
    "\n",
    "def find_embed(word):\n",
    "    '''\n",
    "    Returns the word embedding for a word if it exists, otherwise returns a list full of zeros\n",
    "    '''\n",
    "    try:\n",
    "        return(word_embedding_model[word.lower()])\n",
    "    except:\n",
    "        return [0]*num_features"
   ]
  },
  {
   "cell_type": "code",
   "execution_count": 3,
   "metadata": {},
   "outputs": [
    {
     "name": "stdout",
     "output_type": "stream",
     "text": [
      "300\n"
     ]
    },
    {
     "data": {
      "text/html": [
       "<div>\n",
       "<style scoped>\n",
       "    .dataframe tbody tr th:only-of-type {\n",
       "        vertical-align: middle;\n",
       "    }\n",
       "\n",
       "    .dataframe tbody tr th {\n",
       "        vertical-align: top;\n",
       "    }\n",
       "\n",
       "    .dataframe thead th {\n",
       "        text-align: right;\n",
       "    }\n",
       "</style>\n",
       "<table border=\"1\" class=\"dataframe\">\n",
       "  <thead>\n",
       "    <tr style=\"text-align: right;\">\n",
       "      <th></th>\n",
       "      <th>story</th>\n",
       "      <th>sent_index</th>\n",
       "      <th>token_index</th>\n",
       "      <th>token</th>\n",
       "      <th>bio</th>\n",
       "      <th>vector</th>\n",
       "    </tr>\n",
       "  </thead>\n",
       "  <tbody>\n",
       "    <tr>\n",
       "      <th>0</th>\n",
       "      <td>baskervilles01</td>\n",
       "      <td>0</td>\n",
       "      <td>0</td>\n",
       "      <td>Chapter</td>\n",
       "      <td>O</td>\n",
       "      <td>[0.00065231323, -0.083496094, 0.1328125, -0.09...</td>\n",
       "    </tr>\n",
       "  </tbody>\n",
       "</table>\n",
       "</div>"
      ],
      "text/plain": [
       "            story  sent_index  token_index    token bio  \\\n",
       "0  baskervilles01           0            0  Chapter   O   \n",
       "\n",
       "                                              vector  \n",
       "0  [0.00065231323, -0.083496094, 0.1328125, -0.09...  "
      ]
     },
     "execution_count": 3,
     "metadata": {},
     "output_type": "execute_result"
    }
   ],
   "source": [
    "# Use pandas to read in txt file into pandas dataframe\n",
    "df_train = pd.read_csv('SEM-2012-SharedTask-CD-SCO-training-simple.v2.txt', sep=\"\\t\", \n",
    "                 names=[\"story\", \"sent_index\", \"token_index\", \"token\", \"bio\"])\n",
    "\n",
    "# Find corresponding functions for every token\n",
    "df_train['vector'] = df_train['token'].apply(find_embed)\n",
    "\n",
    "# Show dimensions of embeddings\n",
    "print(len(df_train.iloc[0]['vector']))\n",
    "\n",
    "# Show structure of data\n",
    "df_train.head(1)"
   ]
  },
  {
   "cell_type": "code",
   "execution_count": 4,
   "metadata": {},
   "outputs": [],
   "source": [
    "X = np.array(df_train['vector'].tolist())\n",
    "y = np.array(df_train['bio'])\n",
    "\n",
    "X_train, X_test, y_train, y_test = train_test_split(X, y, test_size=0.25, random_state=0)"
   ]
  },
  {
   "cell_type": "code",
   "execution_count": 5,
   "metadata": {},
   "outputs": [
    {
     "name": "stdout",
     "output_type": "stream",
     "text": [
      "Best parameters found:\n",
      " {'alpha': 0.0001, 'solver': 'adam'}\n"
     ]
    }
   ],
   "source": [
    "# Use GridSearch to find the best parameters\n",
    "mlp = MLPClassifier(max_iter=5000)\n",
    "parameter_space = {\n",
    "    'solver': ['lbfgs', 'sgd', 'adam'],\n",
    "    'alpha': [0.0001, 0.05, 0.01],\n",
    "}\n",
    "\n",
    "clf = GridSearchCV(mlp, parameter_space, n_jobs=-1, cv=3)\n",
    "clf.fit(X_train, y_train)\n",
    "\n",
    "# Print best paramete settings found in the grid search\n",
    "print('Best parameters found:\\n', clf.best_params_)"
   ]
  },
  {
   "cell_type": "code",
   "execution_count": 14,
   "metadata": {},
   "outputs": [
    {
     "name": "stderr",
     "output_type": "stream",
     "text": [
      "/opt/anaconda3/lib/python3.8/site-packages/sklearn/metrics/_classification.py:1308: UndefinedMetricWarning: Precision and F-score are ill-defined and being set to 0.0 in labels with no predicted samples. Use `zero_division` parameter to control this behavior.\n",
      "  _warn_prf(average, modifier, msg_start, len(result))\n",
      "/opt/anaconda3/lib/python3.8/site-packages/sklearn/metrics/_classification.py:1308: UndefinedMetricWarning: Precision and F-score are ill-defined and being set to 0.0 in labels with no predicted samples. Use `zero_division` parameter to control this behavior.\n",
      "  _warn_prf(average, modifier, msg_start, len(result))\n"
     ]
    },
    {
     "name": "stdout",
     "output_type": "stream",
     "text": [
      "              precision    recall  f1-score   support\n",
      "\n",
      "       B-NEG    0.91016   0.88258   0.89615       264\n",
      "       I-NEG    0.00000   0.00000   0.00000         3\n",
      "           O    0.99801   0.99870   0.99835     16096\n",
      "\n",
      "    accuracy                        0.99664     16363\n",
      "   macro avg    0.63606   0.62709   0.63150     16363\n",
      "weighted avg    0.99641   0.99664   0.99652     16363\n",
      "\n"
     ]
    },
    {
     "name": "stderr",
     "output_type": "stream",
     "text": [
      "/opt/anaconda3/lib/python3.8/site-packages/sklearn/metrics/_classification.py:1308: UndefinedMetricWarning: Precision and F-score are ill-defined and being set to 0.0 in labels with no predicted samples. Use `zero_division` parameter to control this behavior.\n",
      "  _warn_prf(average, modifier, msg_start, len(result))\n"
     ]
    }
   ],
   "source": [
    "best_alpha = clf.best_params_['alpha']\n",
    "best_solver = clf.best_params_['solver']\n",
    "\n",
    "mlp = MLPClassifier(max_iter=10000,alpha = best_alpha, solver = best_solver)\n",
    "mlp.fit(X_train, y_train)\n",
    "predictions = mlp.predict(X_test)\n",
    "\n",
    "print(classification_report(y_test, predictions, digits=5))"
   ]
  },
  {
   "cell_type": "code",
   "execution_count": 7,
   "metadata": {},
   "outputs": [
    {
     "data": {
      "text/plain": [
       "MLPClassifier(alpha=0.01, max_iter=10000)"
      ]
     },
     "execution_count": 7,
     "metadata": {},
     "output_type": "execute_result"
    }
   ],
   "source": [
    "mlp"
   ]
  },
  {
   "cell_type": "code",
   "execution_count": 11,
   "metadata": {},
   "outputs": [
    {
     "data": {
      "text/plain": [
       "0.0001"
      ]
     },
     "execution_count": 11,
     "metadata": {},
     "output_type": "execute_result"
    }
   ],
   "source": [
    "clf.best_params_['alpha']"
   ]
  },
  {
   "cell_type": "code",
   "execution_count": null,
   "metadata": {},
   "outputs": [],
   "source": []
  }
 ],
 "metadata": {
  "kernelspec": {
   "display_name": "Python 3",
   "language": "python",
   "name": "python3"
  },
  "language_info": {
   "codemirror_mode": {
    "name": "ipython",
    "version": 3
   },
   "file_extension": ".py",
   "mimetype": "text/x-python",
   "name": "python",
   "nbconvert_exporter": "python",
   "pygments_lexer": "ipython3",
   "version": "3.8.5"
  }
 },
 "nbformat": 4,
 "nbformat_minor": 4
}
